{
 "cells": [
  {
   "cell_type": "markdown",
   "id": "7de281f9-d114-4bb6-a97f-5d73e3303527",
   "metadata": {},
   "source": [
    "#Part 1: DSA\n",
    "Problem 1: Stack\n",
    "Implement a stack data structure in Python. \n",
    "The stack should support the following operations:\n",
    "\n",
    "push(item) - Add an item to the top of the stack.\n",
    "\n",
    "pop() - Remove and return the item on the top of the stack.\n",
    "\n",
    "peek() - Return the item on the top of the stack without removing it.\n",
    "\n",
    "is_empty() - Return True if the stack is empty, else False.\n",
    "\n"
   ]
  },
  {
   "cell_type": "code",
   "execution_count": 1,
   "id": "2ffe25d7-7fd0-4226-b3d7-df333805a344",
   "metadata": {},
   "outputs": [],
   "source": [
    "class Node:\n",
    "    def __init__(self, value):\n",
    "        self.value = value\n",
    "        self.next = None\n",
    "\n",
    "class Stack:\n",
    "    def __init__(self):\n",
    "        self.head = None\n",
    "        self.size = 0\n",
    "\n",
    "    def push(self, value):\n",
    "        new_node = Node(value)\n",
    "        if self.head is None:\n",
    "            self.head = new_node\n",
    "        else:\n",
    "            new_node.next = self.head\n",
    "            self.head = new_node\n",
    "        self.size += 1\n",
    "\n",
    "    def pop(self):\n",
    "        if self.head is None:\n",
    "            raise Exception(\"Stack is empty\")\n",
    "        else:\n",
    "            popped_node = self.head\n",
    "            self.head = popped_node.next\n",
    "            self.size -= 1\n",
    "            return popped_node.value\n",
    "\n",
    "    def peek(self):\n",
    "        if self.head is None:\n",
    "            raise Exception(\"Stack is empty\")\n",
    "        else:\n",
    "            return self.head.value\n",
    "\n",
    "    def is_empty(self):\n",
    "        return self.size == 0\n",
    "\n",
    "    def get_size(self):\n",
    "        return self.size\n"
   ]
  },
  {
   "cell_type": "markdown",
   "id": "4953732b-11cf-4029-a2ea-7a0bde6b885e",
   "metadata": {},
   "source": [
    "the Node class represents each item in the queue, and the Queue class manages the queue by maintaining references to the head and tail nodes of the linked list and the size of the queue. The enqueue method adds a new node to the back of the queue, the dequeue method removes and returns the front node from the queue, the peek method returns the value of the front node without removing it, the is_empty method checks if the queue is empty, and the get_size method returns the size of the queue."
   ]
  },
  {
   "cell_type": "code",
   "execution_count": 2,
   "id": "c9924ad7-d63c-4204-ad53-9528fb707e86",
   "metadata": {},
   "outputs": [],
   "source": [
    "my_stack = Stack()\n",
    "my_stack.push(10)\n",
    "my_stack.push(20)\n",
    "my_stack.push(30)"
   ]
  },
  {
   "cell_type": "code",
   "execution_count": 3,
   "id": "8010316b-96f1-42d2-a611-409e4458f91a",
   "metadata": {},
   "outputs": [
    {
     "name": "stdout",
     "output_type": "stream",
     "text": [
      "30\n",
      "20\n",
      "2\n"
     ]
    }
   ],
   "source": [
    "print(my_stack.pop())  \n",
    "print(my_stack.peek())  \n",
    "print(my_stack.get_size())  "
   ]
  },
  {
   "cell_type": "markdown",
   "id": "3f70b970-ddf4-4a36-9bb5-2ef6fc194551",
   "metadata": {},
   "source": [
    "#Problem 2: Queue\n",
    "Implement a queue data structure in Python. The queue should support the following operations:\n",
    "enqueue(item) - Add an item to the back of the queue.\n",
    "dequeue() - Remove and return the item at the front of the queue.\n",
    "peek() - Return the item at the front of the queue without removing it.\n",
    "is_empty() - Return True if the queue is empty, else False.\n"
   ]
  },
  {
   "cell_type": "code",
   "execution_count": 4,
   "id": "d6597254-7ebd-4bd1-ac89-43af7c5a2d1b",
   "metadata": {},
   "outputs": [],
   "source": [
    "class Node:\n",
    "    def __init__(self, value):\n",
    "        self.value = value\n",
    "        self.next = None\n",
    "\n",
    "class Queue:\n",
    "    def __init__(self):\n",
    "        self.head = None\n",
    "        self.tail = None\n",
    "        self.size = 0\n",
    "\n",
    "    def enqueue(self, value):\n",
    "        new_node = Node(value)\n",
    "        if self.tail is None:\n",
    "            self.head = new_node\n",
    "            self.tail = new_node\n",
    "        else:\n",
    "            self.tail.next = new_node\n",
    "            self.tail = new_node\n",
    "        self.size += 1\n",
    "\n",
    "    def dequeue(self):\n",
    "        if self.head is None:\n",
    "            raise Exception(\"Queue is empty\")\n",
    "        else:\n",
    "            dequeued_node = self.head\n",
    "            self.head = dequeued_node.next\n",
    "            if self.head is None:\n",
    "                self.tail = None\n",
    "            self.size -= 1\n",
    "            return dequeued_node.value\n",
    "\n",
    "    def peek(self):\n",
    "        if self.head is None:\n",
    "            raise Exception(\"Queue is empty\")\n",
    "        else:\n",
    "            return self.head.value\n",
    "\n",
    "    def is_empty(self):\n",
    "        return self.size == 0\n",
    "\n",
    "    def get_size(self):\n",
    "        return self.size\n"
   ]
  },
  {
   "cell_type": "code",
   "execution_count": 5,
   "id": "47958e00-176b-4425-b66a-c7c3929ff483",
   "metadata": {},
   "outputs": [
    {
     "name": "stdout",
     "output_type": "stream",
     "text": [
      "100\n",
      "200\n",
      "2\n"
     ]
    }
   ],
   "source": [
    "my_queue = Queue()\n",
    "my_queue.enqueue(100)\n",
    "my_queue.enqueue(200)\n",
    "my_queue.enqueue(300)\n",
    "print(my_queue.dequeue()) \n",
    "print(my_queue.peek())     \n",
    "print(my_queue.get_size()) "
   ]
  },
  {
   "cell_type": "code",
   "execution_count": null,
   "id": "6bbc4afa-9e96-47a9-a712-9a09ba2f22f8",
   "metadata": {},
   "outputs": [],
   "source": []
  },
  {
   "cell_type": "markdown",
   "id": "3842c62d-d6ca-4651-a235-b8ac19d499a7",
   "metadata": {},
   "source": [
    "Problem 3: Binary Search Tree\n",
    "Implement a binary search tree (BST) data structure in Python. The BST should support the following operations:\n",
    "insert(item) - Insert an item into the tree.\n",
    "delete(item) - Remove an item from the tree.\n",
    "search(item) - Return True if the item is in the tree, else False.\n",
    "size() - Return the number of nodes in the tree.\n"
   ]
  },
  {
   "cell_type": "code",
   "execution_count": 6,
   "id": "ce34f540-c8ad-4af9-8d93-bf354d0c924f",
   "metadata": {},
   "outputs": [],
   "source": [
    "class Node:\n",
    "    def __init__(self, value):\n",
    "        self.value = value\n",
    "        self.left = None\n",
    "        self.right = None\n",
    "\n",
    "class BST:\n",
    "    def __init__(self):\n",
    "        self.root = None\n",
    "        self.size = 0\n",
    "\n",
    "    def insert(self, value):\n",
    "        new_node = Node(value)\n",
    "        if self.root is None:\n",
    "            self.root = new_node\n",
    "        else:\n",
    "            current_node = self.root\n",
    "            while True:\n",
    "                if value < current_node.value:\n",
    "                    if current_node.left is None:\n",
    "                        current_node.left = new_node\n",
    "                        break\n",
    "                    else:\n",
    "                        current_node = current_node.left\n",
    "                else:\n",
    "                    if current_node.right is None:\n",
    "                        current_node.right = new_node\n",
    "                        break\n",
    "                    else:\n",
    "                        current_node = current_node.right\n",
    "        self.size += 1\n",
    "\n",
    "    def search(self, value):\n",
    "        current_node = self.root\n",
    "        while current_node is not None:\n",
    "            if value == current_node.value:\n",
    "                return True\n",
    "            elif value < current_node.value:\n",
    "                current_node = current_node.left\n",
    "            else:\n",
    "                current_node = current_node.right\n",
    "        return False\n",
    "\n",
    "    def delete(self, value):\n",
    "        def find_min_node(node):\n",
    "            current_node = node\n",
    "            while current_node.left is not None:\n",
    "                current_node = current_node.left\n",
    "            return current_node\n",
    "\n",
    "        def delete_node(node, value):\n",
    "            if node is None:\n",
    "                return node\n",
    "            if value < node.value:\n",
    "                node.left = delete_node(node.left, value)\n",
    "            elif value > node.value:\n",
    "                node.right = delete_node(node.right, value)\n",
    "            else:\n",
    "                if node.left is None:\n",
    "                    temp_node = node.right\n",
    "                    node = None\n",
    "                    return temp_node\n",
    "                elif node.right is None:\n",
    "                    temp_node = node.left\n",
    "                    node = None\n",
    "                    return temp_node\n",
    "                temp_node = find_min_node(node.right)\n",
    "                node.value = temp_node.value\n",
    "                node.right = delete_node(node.right, temp_node.value)\n",
    "            return node\n",
    "\n",
    "        self.root = delete_node(self.root, value)\n",
    "        if self.root is not None:\n",
    "            self.size -= 1\n",
    "\n",
    "    def get_size(self):\n",
    "        return self.size\n"
   ]
  },
  {
   "cell_type": "markdown",
   "id": "163db322-0bc4-4f71-a7fe-12db5ce6908d",
   "metadata": {},
   "source": [
    "the Node class represents each node in the binary search tree, and the BST class manages the tree by maintaining a reference to the root node and the size of the tree. The insert method adds a new node to the tree based on the BST property, the search method searches for a node with the given value in the tree, the delete method removes a node with the given value from the tree while maintaining the BST property, and the get_size method returns the size of the tree."
   ]
  },
  {
   "cell_type": "code",
   "execution_count": 7,
   "id": "37d6bfc6-1e19-416d-8126-6c861bf604ac",
   "metadata": {},
   "outputs": [
    {
     "name": "stdout",
     "output_type": "stream",
     "text": [
      "True\n",
      "7\n",
      "6\n"
     ]
    }
   ],
   "source": [
    "my_bst = BST()\n",
    "my_bst.insert(4)\n",
    "my_bst.insert(2)\n",
    "my_bst.insert(1)\n",
    "my_bst.insert(3)\n",
    "my_bst.insert(6)\n",
    "my_bst.insert(5)\n",
    "my_bst.insert(7)\n",
    "print(my_bst.search(5))\n",
    "print(my_bst.get_size())\n",
    "my_bst.delete(6)\n",
    "print(my_bst.get_size()) "
   ]
  },
  {
   "cell_type": "code",
   "execution_count": null,
   "id": "24f4ef99-2c06-4f29-aeeb-ca8cf7d595b2",
   "metadata": {},
   "outputs": [],
   "source": []
  },
  {
   "cell_type": "markdown",
   "id": "813bc277-eefe-4bfd-a9b4-40feea3537ad",
   "metadata": {},
   "source": [
    "Part 2: Python\n",
    "Problem 1: Anagram Checker\n",
    "Write a Python function that takes in two strings and returns True if they are anagrams of each other, else False. An anagram is a word or phrase formed by rearranging the letters of a different word or phrase, typically using all the original letters exactly once.\n"
   ]
  },
  {
   "cell_type": "code",
   "execution_count": 8,
   "id": "3a83a583-831d-4209-803e-3aa81278fad5",
   "metadata": {},
   "outputs": [],
   "source": [
    "def is_anagram(str1, str2):\n",
    "    # Convert the strings to lowercase and remove whitespace\n",
    "    str1 = str1.lower().replace(\" \", \"\")\n",
    "    str2 = str2.lower().replace(\" \", \"\")\n",
    "\n",
    "    # Compare the sorted versions of the strings\n",
    "    return sorted(str1) == sorted(str2)"
   ]
  },
  {
   "cell_type": "markdown",
   "id": "833a22cd-0ef8-4481-b8ea-66a0d2934482",
   "metadata": {},
   "source": [
    " the is_anagram function takes two strings as input, converts them to lowercase and removes whitespace, and then compares their sorted versions using the sorted function. If the sorted versions are the same, then the function returns True, indicating that the two strings are anagrams of each other. Otherwise, the function returns False."
   ]
  },
  {
   "cell_type": "code",
   "execution_count": 9,
   "id": "f8ab5872-edd5-41d2-85bc-d6981c999d02",
   "metadata": {},
   "outputs": [
    {
     "name": "stdout",
     "output_type": "stream",
     "text": [
      "True\n",
      "True\n",
      "True\n",
      "False\n"
     ]
    }
   ],
   "source": [
    "print(is_anagram(\"ear\", \"are\"))\n",
    "print(is_anagram(\"Ram\", \"arm\"))\n",
    "print(is_anagram(\"space\", \"paces\"))\n",
    "print(is_anagram(\"list\", \"silent\"))"
   ]
  },
  {
   "cell_type": "code",
   "execution_count": null,
   "id": "c8aa3a9e-019a-4c09-976a-3e00d0c69420",
   "metadata": {},
   "outputs": [],
   "source": []
  },
  {
   "cell_type": "markdown",
   "id": "c36acd25-3a00-4caa-9396-2e13ffaf019e",
   "metadata": {},
   "source": [
    "Problem 2: FizzBuzz\n",
    "Write a Python function that takes in an integer n and prints the numbers from 1 to n. For multiples of 3, print \"Fizz\" instead of the number. For multiples of 5, print \"Buzz\" instead of the number. For multiples of both 3 and 5, print \"FizzBuzz\" instead of the number.\n"
   ]
  },
  {
   "cell_type": "markdown",
   "id": "7eaecc3b-7606-40ab-9361-7db4e5468124",
   "metadata": {},
   "source": [
    "Solution :- for this problem we can use a loop to iterate over the numbers from 1 to n, and use if-else statements to determine whether to print the number, \"Fizz\", \"Buzz\", or \"FizzBuzz\". Here is an example implementation:\n"
   ]
  },
  {
   "cell_type": "code",
   "execution_count": 10,
   "id": "80273f86-c544-41ee-b064-f7646b9e733a",
   "metadata": {},
   "outputs": [],
   "source": [
    "def fizzbuzz(n):\n",
    "    for i in range(1, n+1):\n",
    "        if i % 3 == 0 and i % 5 == 0:\n",
    "            print(\"FizzBuzz\")\n",
    "        elif i % 3 == 0:\n",
    "            print(\"Fizz\")\n",
    "        elif i % 5 == 0:\n",
    "            print(\"Buzz\")\n",
    "        else:\n",
    "            print(i)\n"
   ]
  },
  {
   "cell_type": "code",
   "execution_count": 11,
   "id": "79273e5b-c71f-4c0e-a6e9-ccd84655fc65",
   "metadata": {},
   "outputs": [
    {
     "name": "stdout",
     "output_type": "stream",
     "text": [
      "1\n",
      "2\n",
      "Fizz\n",
      "4\n",
      "Buzz\n",
      "Fizz\n",
      "7\n",
      "8\n",
      "Fizz\n",
      "Buzz\n",
      "11\n",
      "Fizz\n"
     ]
    }
   ],
   "source": [
    "fizzbuzz(12)\n"
   ]
  },
  {
   "cell_type": "code",
   "execution_count": 12,
   "id": "46d538ed-136e-401f-ae3e-d05a047c9a84",
   "metadata": {},
   "outputs": [
    {
     "name": "stdout",
     "output_type": "stream",
     "text": [
      "1\n",
      "2\n",
      "Fizz\n",
      "4\n",
      "Buzz\n",
      "Fizz\n",
      "7\n",
      "8\n",
      "Fizz\n",
      "Buzz\n",
      "11\n",
      "Fizz\n",
      "13\n",
      "14\n",
      "FizzBuzz\n",
      "16\n",
      "17\n",
      "Fizz\n",
      "19\n",
      "Buzz\n",
      "Fizz\n",
      "22\n",
      "23\n",
      "Fizz\n",
      "Buzz\n"
     ]
    }
   ],
   "source": [
    "fizzbuzz(25)"
   ]
  },
  {
   "cell_type": "code",
   "execution_count": null,
   "id": "4aac5996-fea1-43fe-8474-efb9564d57ac",
   "metadata": {},
   "outputs": [],
   "source": []
  },
  {
   "cell_type": "markdown",
   "id": "3c626265-7cd9-4b52-ac28-93f8f29f3106",
   "metadata": {},
   "source": [
    "Problem 3: Fibonacci Sequence\n",
    "Write a Python function that takes in an integer n and returns the nth number in the Fibonacci sequence. The Fibonacci sequence is a series of numbers in which each number after the first two is the sum of the two preceding ones.\n"
   ]
  },
  {
   "cell_type": "code",
   "execution_count": 13,
   "id": "eaa2236f-c4b9-4ba2-98f1-135188ebeda3",
   "metadata": {},
   "outputs": [],
   "source": [
    "#we can use a recursive function to calculate the nth number in the sequence. Here is an example implementation:\n",
    "\n",
    "def fibonacci(n):\n",
    "    if n <= 1:\n",
    "        return n\n",
    "    else:\n",
    "        return fibonacci(n-1) + fibonacci(n-2)\n"
   ]
  },
  {
   "cell_type": "markdown",
   "id": "d4c25e74-b643-4b6b-a61d-34e3d51826b8",
   "metadata": {},
   "source": [
    "the fibonacci function takes an integer n as input and uses a recursive function to calculate the nth number in the Fibonacci sequence. If n is less than or equal to 1, then the function returns n. Otherwise, the function recursively calculates the nth number by adding together the (n-1)th and (n-2)th numbers in the sequence."
   ]
  },
  {
   "cell_type": "code",
   "execution_count": 14,
   "id": "08ad4d78-92fa-4710-92f7-5f615aa1de22",
   "metadata": {},
   "outputs": [
    {
     "name": "stdout",
     "output_type": "stream",
     "text": [
      "0\n",
      "8\n",
      "13\n",
      "987\n"
     ]
    }
   ],
   "source": [
    "print(fibonacci(0))\n",
    "print(fibonacci(6))\n",
    "print(fibonacci(7))\n",
    "print(fibonacci(16))"
   ]
  },
  {
   "cell_type": "code",
   "execution_count": null,
   "id": "d2f8fd45-8b57-4cba-ad79-99ab304b6f39",
   "metadata": {},
   "outputs": [],
   "source": []
  }
 ],
 "metadata": {
  "kernelspec": {
   "display_name": "Python 3 (ipykernel)",
   "language": "python",
   "name": "python3"
  },
  "language_info": {
   "codemirror_mode": {
    "name": "ipython",
    "version": 3
   },
   "file_extension": ".py",
   "mimetype": "text/x-python",
   "name": "python",
   "nbconvert_exporter": "python",
   "pygments_lexer": "ipython3",
   "version": "3.10.8"
  }
 },
 "nbformat": 4,
 "nbformat_minor": 5
}
